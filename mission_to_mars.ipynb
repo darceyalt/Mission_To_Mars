{
 "cells": [
  {
   "cell_type": "code",
   "execution_count": null,
   "metadata": {},
   "outputs": [],
   "source": [
    "# Import Dependencies \n",
    "from bs4 import BeautifulSoup\n",
    "import pymongo\n",
    "from splinter import Browser\n",
    "import requests\n",
    "import time\n",
    "import pandas as pd"
   ]
  },
  {
   "cell_type": "code",
   "execution_count": null,
   "metadata": {},
   "outputs": [],
   "source": [
    "# NASA Mars News\n",
    "\n",
    "executable_path = {'executable_path': '/usr/local/bin/chromedriver'}\n",
    "browser = Browser('chrome', **executable_path, headless = False)\n",
    "\n",
    "url = \"https://mars.nasa.gov/news/\"\n",
    "browser.visit(url)\n",
    "\n",
    "html_code = browser.html\n",
    "soup = BeautifulSoup(html_code, \"html.parser\")\n",
    "\n",
    "news_title = soup.find('div', class_=\"bottom_gradient\").text\n",
    "news_p = soup.find('div', class_=\"rollover_description_inner\").text"
   ]
  },
  {
   "cell_type": "code",
   "execution_count": null,
   "metadata": {},
   "outputs": [],
   "source": [
    "print(news_title)"
   ]
  },
  {
   "cell_type": "code",
   "execution_count": null,
   "metadata": {},
   "outputs": [],
   "source": [
    "print(news_p)"
   ]
  },
  {
   "cell_type": "code",
   "execution_count": null,
   "metadata": {},
   "outputs": [],
   "source": [
    "# JPL Mars Space Images - Featured Image\n",
    "\n",
    "jpl_url = \"https://www.jpl.nasa.gov/spaceimages/?search=&category=Mars\"\n",
    "browser.visit(jpl_url)\n",
    "\n",
    "browser.click_link_by_partial_text('FULL IMAGE')\n",
    "browser.click_link_by_partial_text('more info')\n",
    "\n",
    "image_html = browser.html\n",
    "\n",
    "soup = BeautifulSoup(image_html, \"html.parser\")\n",
    "\n",
    "image_path = soup.find('figure', class_='lede').a['href']\n",
    "featured_image_url = \"https://www.jpl.nasa.gov/\" + image_path\n",
    "\n",
    "featured_image_url"
   ]
  },
  {
   "cell_type": "code",
   "execution_count": null,
   "metadata": {},
   "outputs": [],
   "source": [
    "# Mars Weather\n",
    "\n",
    "marsweather_urlmarsweat  = \"https://twitter.com/marswxreport?lang=en\"\n",
    "browser.visit(marsweather_url)\n",
    "\n",
    "weather_html = browser.html\n",
    "\n",
    "soup = BeautifulSoup(weather_html, 'html.parser')\n",
    "\n",
    "mars_weather = soup.find('p', class_=\"TweetTextSize TweetTextSize--normal js-tweet-text tweet-text\").text\n",
    "\n",
    "mars_weather"
   ]
  },
  {
   "cell_type": "code",
   "execution_count": null,
   "metadata": {},
   "outputs": [],
   "source": [
    "# Mars Facts\n",
    "\n",
    "facts_url = \"https://space-facts.com/mars/\"\n",
    "browser.visit(facts_url)\n",
    "\n",
    "facts_html = browser.html\n",
    "\n",
    "soup = BeautifulSoup(facts_html, 'html.parser')"
   ]
  },
  {
   "cell_type": "code",
   "execution_count": null,
   "metadata": {},
   "outputs": [],
   "source": [
    "table_data = soup.find('table', class_=\"tablepress tablepress-id-mars\")"
   ]
  },
  {
   "cell_type": "code",
   "execution_count": null,
   "metadata": {},
   "outputs": [],
   "source": [
    "table_all = table_data.find_all('tr')\n",
    "\n",
    "labels = []\n",
    "values = []\n",
    "\n",
    "for tr in table_all:\n",
    "    td_elements = tr.find_all('td')\n",
    "    labels.append(td_elements[0].text)\n",
    "    values.append(td_elements[1].text)"
   ]
  },
  {
   "cell_type": "code",
   "execution_count": null,
   "metadata": {},
   "outputs": [],
   "source": [
    "mars_facts_df = pd.DataFrame({\n",
    "    \"Label\": labels,\n",
    "    \"Values\": values\n",
    "})"
   ]
  },
  {
   "cell_type": "code",
   "execution_count": null,
   "metadata": {},
   "outputs": [],
   "source": [
    "mars_facts_df"
   ]
  },
  {
   "cell_type": "code",
   "execution_count": null,
   "metadata": {},
   "outputs": [],
   "source": [
    "fact_table = mars_facts_df.to_html(header = False, index = False)\n",
    "fact_table"
   ]
  },
  {
   "cell_type": "code",
   "execution_count": null,
   "metadata": {},
   "outputs": [],
   "source": [
    "# Mars Hemispheres\n",
    "\n",
    "usgs_url = \"https://astrogeology.usgs.gov/search/results?q=hemisphere+enhanced&k1=target&v1=Mars\"\n",
    "\n",
    "browser.visit(usgs_url)\n",
    "\n",
    "usgs_html = browser.html\n",
    "\n",
    "soup = BeautifulSoup(usgs_html, \"html.parser\")\n",
    "\n",
    "returns = soup.find('div', class_=\"collapsible results\")\n",
    "hemispheres = returns.find_all('a')\n",
    "\n",
    "hemisphere_image_urls =[]\n",
    "\n",
    "for a in hemispheres:\n",
    "    title = a.h3.text\n",
    "    link = \"https://astrogeology.usgs.gov\" + a['href']\n",
    "    \n",
    "    browser.visit(link)\n",
    "    time.sleep(5)\n",
    "    \n",
    "    image_page = browser.html\n",
    "    results = BeautifulSoup(image_page, 'html.parser')\n",
    "    img_link = results.find('div', class_='downloads').find('li').a['href']\n",
    "    \n",
    "    image_dict = {}\n",
    "    image_dict['title'] = title\n",
    "    image_dict['img_url'] = img_link\n",
    "    \n",
    "    hemisphere_image_urls.append(image_dict)"
   ]
  },
  {
   "cell_type": "code",
   "execution_count": null,
   "metadata": {},
   "outputs": [],
   "source": [
    "print(hemisphere_image_urls)"
   ]
  }
 ],
 "metadata": {
  "kernelspec": {
   "display_name": "Python [conda env:PythonData1]",
   "language": "python",
   "name": "conda-env-PythonData1-py"
  },
  "language_info": {
   "codemirror_mode": {
    "name": "ipython",
    "version": 3
   },
   "file_extension": ".py",
   "mimetype": "text/x-python",
   "name": "python",
   "nbconvert_exporter": "python",
   "pygments_lexer": "ipython3",
   "version": "3.6.4"
  }
 },
 "nbformat": 4,
 "nbformat_minor": 2
}
